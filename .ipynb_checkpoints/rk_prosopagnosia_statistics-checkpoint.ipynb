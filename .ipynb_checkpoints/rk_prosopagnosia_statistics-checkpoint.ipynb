{
 "cells": [
  {
   "cell_type": "code",
   "execution_count": 1,
   "metadata": {},
   "outputs": [],
   "source": [
    "from __future__ import division\n",
    "import os\n",
    "from glob import glob\n",
    "import numpy as np\n",
    "import matplotlib.pyplot as plt\n",
    "import seaborn as sns\n",
    "import pandas as pd\n",
    "%matplotlib inline\n",
    "import scipy.io as sio"
   ]
  },
  {
   "cell_type": "code",
   "execution_count": 2,
   "metadata": {},
   "outputs": [],
   "source": [
    "# GCM file \n",
    "GCMfilePath = 'C:/Users/Roman/Desktop/Projects/Prosopagnosia/peb/GCM.mat'\n",
    "GCMfile     = sio.loadmat(GCMfilePath)"
   ]
  },
  {
   "cell_type": "code",
   "execution_count": 3,
   "metadata": {},
   "outputs": [],
   "source": [
    "Nreg = 4\n",
    "Nsub = 49\n",
    "regionNames = ['rFFA','lFFA','rATL','lATL']\n",
    "\n",
    "Amatrices = np.ndarray([Nreg,Nreg,Nsub])\n",
    "Bmatrices = np.ndarray([Nreg,Nreg,Nsub])\n",
    "Cmatrices = np.ndarray([Nreg,Nsub])"
   ]
  },
  {
   "cell_type": "code",
   "execution_count": 5,
   "metadata": {},
   "outputs": [],
   "source": [
    "# loop over all subjects to get parameters\n",
    "\n",
    "for isub in range(Nsub):\n",
    "    \n",
    "    Amatrices[:,:,isub] = np.array(GCMfile['GCM'][isub][0]['Ep'][0][0][0][0][0].todense()) # convert sparse matrix to dense matrix\n",
    "    Bmatrices[:,:,isub] = np.array(GCMfile['GCM'][isub][0]['Ep'][0][0][0][0][1].todense()) # convert sparse matrix to dense matrix\n",
    "    #Cmatrices[:,isub] = np.array(GCMfile['GCM'][isub][0]['Ep'][0][0][0][0][2].todense()) # convert sparse matrix to dense matrix\n",
    "    "
   ]
  },
  {
   "cell_type": "code",
   "execution_count": 6,
   "metadata": {},
   "outputs": [
    {
     "name": "stderr",
     "output_type": "stream",
     "text": [
      "C:\\Users\\Roman\\Anaconda3\\lib\\site-packages\\scipy\\stats\\_distn_infrastructure.py:879: RuntimeWarning: invalid value encountered in greater\n",
      "  return (self.a < x) & (x < self.b)\n",
      "C:\\Users\\Roman\\Anaconda3\\lib\\site-packages\\scipy\\stats\\_distn_infrastructure.py:879: RuntimeWarning: invalid value encountered in less\n",
      "  return (self.a < x) & (x < self.b)\n",
      "C:\\Users\\Roman\\Anaconda3\\lib\\site-packages\\scipy\\stats\\_distn_infrastructure.py:1821: RuntimeWarning: invalid value encountered in less_equal\n",
      "  cond2 = cond0 & (x <= self.a)\n",
      "C:\\Users\\Roman\\Anaconda3\\lib\\site-packages\\ipykernel_launcher.py:9: RuntimeWarning: invalid value encountered in less\n",
      "  if __name__ == '__main__':\n",
      "C:\\Users\\Roman\\Anaconda3\\lib\\site-packages\\ipykernel_launcher.py:10: RuntimeWarning: invalid value encountered in greater\n",
      "  # Remove the CWD from sys.path while we load stuff.\n"
     ]
    },
    {
     "data": {
      "text/plain": [
       "Text(0.5,1,'B matrix')"
      ]
     },
     "execution_count": 6,
     "metadata": {},
     "output_type": "execute_result"
    },
    {
     "data": {
      "image/png": "[encoded data removed]",
      "text/plain": [
       "<Figure size 432x288 with 2 Axes>"
      ]
     },
     "metadata": {},
     "output_type": "display_data"
    }
   ],
   "source": [
    "# do t-tests for all parameters\n",
    "\n",
    "from scipy.stats import ttest_1samp\n",
    "import csv\n",
    "\n",
    "T, p = ttest_1samp(Bmatrices, 0, axis= 2)\n",
    "\n",
    "# convert p to binary (sig or n.s.)\n",
    "pLogic = p < ( 0.05 / 8 )\n",
    "pMask  = p > ( 0.05 / 8 )\n",
    "\n",
    "sns.heatmap(data = T,\n",
    "           center = 0,\n",
    "           xticklabels = regionNames,\n",
    "           yticklabels = regionNames,\n",
    "           square = True,\n",
    "           # = 'source region')\n",
    "           annot = p,\n",
    "           mask = pMask\n",
    "           )\n",
    "plt.title('B matrix')"
   ]
  },
  {
   "cell_type": "code",
   "execution_count": 106,
   "metadata": {},
   "outputs": [
    {
     "name": "stderr",
     "output_type": "stream",
     "text": [
      "C:\\Users\\Roman\\Anaconda3\\lib\\site-packages\\scipy\\stats\\_distn_infrastructure.py:879: RuntimeWarning: invalid value encountered in greater\n",
      "  return (self.a < x) & (x < self.b)\n",
      "C:\\Users\\Roman\\Anaconda3\\lib\\site-packages\\scipy\\stats\\_distn_infrastructure.py:879: RuntimeWarning: invalid value encountered in less\n",
      "  return (self.a < x) & (x < self.b)\n",
      "C:\\Users\\Roman\\Anaconda3\\lib\\site-packages\\scipy\\stats\\_distn_infrastructure.py:1821: RuntimeWarning: invalid value encountered in less_equal\n",
      "  cond2 = cond0 & (x <= self.a)\n",
      "C:\\Users\\Roman\\Anaconda3\\lib\\site-packages\\ipykernel_launcher.py:5: RuntimeWarning: invalid value encountered in less\n",
      "  \"\"\"\n",
      "C:\\Users\\Roman\\Anaconda3\\lib\\site-packages\\ipykernel_launcher.py:6: RuntimeWarning: invalid value encountered in greater\n",
      "  \n"
     ]
    },
    {
     "data": {
      "text/plain": [
       "<matplotlib.axes._subplots.AxesSubplot at 0x1fe76c59160>"
      ]
     },
     "execution_count": 106,
     "metadata": {},
     "output_type": "execute_result"
    },
    {
     "data": {
      "image/png": "[encoded data removed]",
      "text/plain": [
       "<Figure size 432x288 with 2 Axes>"
      ]
     },
     "metadata": {},
     "output_type": "display_data"
    }
   ],
   "source": [
    "# A matrix\n",
    "T, p = ttest_1samp(Amatrices, 0, axis= 2)\n",
    "\n",
    "# convert p to binary (sig or n.s.)\n",
    "pLogic = p < ( 0.05 / 12 )\n",
    "pMask  = p > ( 0.05 / 12 )\n",
    "\n",
    "sns.heatmap(data = T,\n",
    "           center = 0,\n",
    "           xticklabels = regionNames,\n",
    "           yticklabels = regionNames,\n",
    "           square = True,\n",
    "           # = 'source region')\n",
    "           annot = p,\n",
    "           mask = pMask\n",
    "           )"
   ]
  },
  {
   "cell_type": "code",
   "execution_count": 85,
   "metadata": {},
   "outputs": [
    {
     "data": {
      "text/plain": [
       "array([[           nan, 6.76577687e-06, 1.67440770e-03,            nan],\n",
       "       [2.07977314e-03,            nan,            nan, 4.25996051e-01],\n",
       "       [3.55742311e-02,            nan,            nan, 8.65366121e-04],\n",
       "       [           nan, 1.31158911e-01, 1.11872827e-01,            nan]])"
      ]
     },
     "execution_count": 85,
     "metadata": {},
     "output_type": "execute_result"
    }
   ],
   "source": [
    "p"
   ]
  },
  {
   "cell_type": "code",
   "execution_count": 11,
   "metadata": {},
   "outputs": [
    {
     "data": {
      "text/html": [
       "<div>\n",
       "<style scoped>\n",
       "    .dataframe tbody tr th:only-of-type {\n",
       "        vertical-align: middle;\n",
       "    }\n",
       "\n",
       "    .dataframe tbody tr th {\n",
       "        vertical-align: top;\n",
       "    }\n",
       "\n",
       "    .dataframe thead th {\n",
       "        text-align: right;\n",
       "    }\n",
       "</style>\n",
       "<table border=\"1\" class=\"dataframe\">\n",
       "  <thead>\n",
       "    <tr style=\"text-align: right;\">\n",
       "      <th></th>\n",
       "      <th>Proband</th>\n",
       "      <th>Prosopagnosie</th>\n",
       "      <th>TAS</th>\n",
       "      <th>ASQ</th>\n",
       "      <th>sex</th>\n",
       "      <th>age</th>\n",
       "    </tr>\n",
       "  </thead>\n",
       "  <tbody>\n",
       "    <tr>\n",
       "      <th>0</th>\n",
       "      <td>01_02</td>\n",
       "      <td>0.5972</td>\n",
       "      <td>39</td>\n",
       "      <td>7</td>\n",
       "      <td>1</td>\n",
       "      <td>30</td>\n",
       "    </tr>\n",
       "    <tr>\n",
       "      <th>1</th>\n",
       "      <td>01_03</td>\n",
       "      <td>0.7639</td>\n",
       "      <td>35</td>\n",
       "      <td>7</td>\n",
       "      <td>1</td>\n",
       "      <td>40</td>\n",
       "    </tr>\n",
       "    <tr>\n",
       "      <th>2</th>\n",
       "      <td>01_04</td>\n",
       "      <td>0.9028</td>\n",
       "      <td>28</td>\n",
       "      <td>1</td>\n",
       "      <td>0</td>\n",
       "      <td>21</td>\n",
       "    </tr>\n",
       "    <tr>\n",
       "      <th>3</th>\n",
       "      <td>01_05</td>\n",
       "      <td>0.5139</td>\n",
       "      <td>41</td>\n",
       "      <td>9</td>\n",
       "      <td>0</td>\n",
       "      <td>23</td>\n",
       "    </tr>\n",
       "    <tr>\n",
       "      <th>4</th>\n",
       "      <td>01_06</td>\n",
       "      <td>0.6806</td>\n",
       "      <td>46</td>\n",
       "      <td>18</td>\n",
       "      <td>1</td>\n",
       "      <td>26</td>\n",
       "    </tr>\n",
       "  </tbody>\n",
       "</table>\n",
       "</div>"
      ],
      "text/plain": [
       "  Proband  Prosopagnosie  TAS  ASQ  sex  age\n",
       "0   01_02         0.5972   39    7    1   30\n",
       "1   01_03         0.7639   35    7    1   40\n",
       "2   01_04         0.9028   28    1    0   21\n",
       "3   01_05         0.5139   41    9    0   23\n",
       "4   01_06         0.6806   46   18    1   26"
      ]
     },
     "execution_count": 11,
     "metadata": {},
     "output_type": "execute_result"
    }
   ],
   "source": [
    "# import covariates for correlations\n",
    "covFolder = 'C:/Users/Roman/Desktop/Projects/Prosopagnosia/covariates/'\n",
    "\n",
    "df = pd.read_excel(covFolder + 'covariates_all1.xlsx')\n",
    "df.head()\n"
   ]
  },
  {
   "cell_type": "code",
   "execution_count": 12,
   "metadata": {},
   "outputs": [
    {
     "data": {
      "text/plain": [
       "array([0.5972, 0.7639, 0.9028, 0.5139, 0.6806, 0.9028, 0.7361, 0.9167,\n",
       "       0.8333, 0.7917, 0.8194, 0.625 , 0.5417, 0.625 , 0.8194, 0.9861,\n",
       "       0.4861, 0.6528, 0.7778, 0.8472, 0.9583, 0.8333, 0.7083, 0.625 ,\n",
       "       0.5556, 0.8472, 0.9028, 0.9306, 0.8333, 0.5694, 0.9444, 0.75  ,\n",
       "       0.8889, 0.6667, 0.4722, 0.4861, 0.8194, 0.625 , 0.6528, 0.8472,\n",
       "       0.7361, 0.625 , 0.8472, 0.8472, 0.6368, 0.7778, 0.8056, 0.8472,\n",
       "       0.9028])"
      ]
     },
     "execution_count": 12,
     "metadata": {},
     "output_type": "execute_result"
    }
   ],
   "source": [
    "df.Prosopagnosie.values"
   ]
  },
  {
   "cell_type": "code",
   "execution_count": 8,
   "metadata": {},
   "outputs": [],
   "source": [
    "from scipy.stats import pearsonr"
   ]
  },
  {
   "cell_type": "code",
   "execution_count": 117,
   "metadata": {},
   "outputs": [
    {
     "data": {
      "text/plain": [
       "-0.32234537894512844"
      ]
     },
     "execution_count": 117,
     "metadata": {},
     "output_type": "execute_result"
    }
   ],
   "source": [
    "r"
   ]
  },
  {
   "cell_type": "code",
   "execution_count": 143,
   "metadata": {},
   "outputs": [
    {
     "data": {
      "text/plain": [
       "0.02389362356571091"
      ]
     },
     "execution_count": 143,
     "metadata": {},
     "output_type": "execute_result"
    }
   ],
   "source": [
    "p"
   ]
  },
  {
   "cell_type": "code",
   "execution_count": null,
   "metadata": {},
   "outputs": [],
   "source": []
  },
  {
   "cell_type": "code",
   "execution_count": 13,
   "metadata": {},
   "outputs": [
    {
     "name": "stderr",
     "output_type": "stream",
     "text": [
      "C:\\Users\\Roman\\Anaconda3\\lib\\site-packages\\scipy\\stats\\stats.py:3010: RuntimeWarning: invalid value encountered in double_scalars\n",
      "  r = r_num / r_den\n",
      "C:\\Users\\Roman\\Anaconda3\\lib\\site-packages\\scipy\\stats\\stats.py:5256: RuntimeWarning: invalid value encountered in less\n",
      "  x = np.where(x < 1.0, x, 1.0)  # if x > 1 then return 1.0\n"
     ]
    },
    {
     "data": {
      "text/plain": [
       "Text(0.5,1,'correlation with Prosopagnosia')"
      ]
     },
     "execution_count": 13,
     "metadata": {},
     "output_type": "execute_result"
    },
    {
     "data": {
      "image/png": "[encoded data removed]",
      "text/plain": [
       "<Figure size 432x288 with 2 Axes>"
      ]
     },
     "metadata": {},
     "output_type": "display_data"
    }
   ],
   "source": [
    "# correlation of b matrix with proso\n",
    "\n",
    "rs = np.zeros((Nreg,Nreg))\n",
    "ps = np.zeros((Nreg,Nreg))\n",
    "\n",
    "for i in range(Nreg):\n",
    "    for j in range(Nreg):\n",
    "        rs[i,j], ps[i,j] = pearsonr(Bmatrices[i,j,:], df.Prosopagnosie.values)\n",
    "\n",
    "# convert p to binary (sig or n.s.)\n",
    "pLogic = ps < ( 0.05 / 1 )\n",
    "pMask  = ps > ( 0.05 / 1 )\n",
    "\n",
    "sns.heatmap(data = rs,\n",
    "           center = 0,\n",
    "           xticklabels = regionNames,\n",
    "           yticklabels = regionNames,\n",
    "           square = True,\n",
    "           # = 'source region')\n",
    "           annot = ps,\n",
    "           mask = pMask,\n",
    "           #title = 'p < 0.05 uncorrected'\n",
    "           )\n",
    "plt.title('correlation with Prosopagnosia')"
   ]
  },
  {
   "cell_type": "code",
   "execution_count": 15,
   "metadata": {},
   "outputs": [
    {
     "name": "stderr",
     "output_type": "stream",
     "text": [
      "C:\\Users\\Roman\\Anaconda3\\lib\\site-packages\\scipy\\stats\\stats.py:3010: RuntimeWarning: invalid value encountered in double_scalars\n",
      "  r = r_num / r_den\n",
      "C:\\Users\\Roman\\Anaconda3\\lib\\site-packages\\scipy\\stats\\stats.py:5256: RuntimeWarning: invalid value encountered in less\n",
      "  x = np.where(x < 1.0, x, 1.0)  # if x > 1 then return 1.0\n"
     ]
    },
    {
     "data": {
      "text/plain": [
       "Text(0.5,1,'correlation with Alexithymia')"
      ]
     },
     "execution_count": 15,
     "metadata": {},
     "output_type": "execute_result"
    },
    {
     "data": {
      "image/png": "[encoded data removed]",
      "text/plain": [
       "<Figure size 432x288 with 2 Axes>"
      ]
     },
     "metadata": {},
     "output_type": "display_data"
    }
   ],
   "source": [
    "# correlation of b matrix with alexi\n",
    "\n",
    "rs = np.zeros((Nreg,Nreg))\n",
    "ps = np.zeros((Nreg,Nreg))\n",
    "\n",
    "for i in range(Nreg):\n",
    "    for j in range(Nreg):\n",
    "        rs[i,j], ps[i,j] = pearsonr(Bmatrices[i,j,:], df.TAS.values)\n",
    "\n",
    "# convert p to binary (sig or n.s.)\n",
    "pLogic = ps < ( 0.05 / 1 )\n",
    "pMask  = ps > ( 0.05 / 1 )\n",
    "\n",
    "sns.heatmap(data = rs,\n",
    "           center = 0,\n",
    "           xticklabels = regionNames,\n",
    "           yticklabels = regionNames,\n",
    "           square = True,\n",
    "           # = 'source region')\n",
    "           annot = ps,\n",
    "           mask = pMask,\n",
    "           #title = 'p < 0.05 uncorrected'\n",
    "           )\n",
    "plt.title('correlation with Alexithymia')"
   ]
  },
  {
   "cell_type": "code",
   "execution_count": 14,
   "metadata": {},
   "outputs": [
    {
     "name": "stderr",
     "output_type": "stream",
     "text": [
      "C:\\Users\\Roman\\Anaconda3\\lib\\site-packages\\scipy\\stats\\stats.py:3010: RuntimeWarning: invalid value encountered in double_scalars\n",
      "  r = r_num / r_den\n",
      "C:\\Users\\Roman\\Anaconda3\\lib\\site-packages\\scipy\\stats\\stats.py:5256: RuntimeWarning: invalid value encountered in less\n",
      "  x = np.where(x < 1.0, x, 1.0)  # if x > 1 then return 1.0\n"
     ]
    },
    {
     "data": {
      "text/plain": [
       "Text(0.5,1,'correlation with Autism')"
      ]
     },
     "execution_count": 14,
     "metadata": {},
     "output_type": "execute_result"
    },
    {
     "data": {
      "image/png": "[encoded data removed]",
      "text/plain": [
       "<Figure size 432x288 with 2 Axes>"
      ]
     },
     "metadata": {},
     "output_type": "display_data"
    }
   ],
   "source": [
    "# correlation of b matrix with alexi\n",
    "\n",
    "rs = np.zeros((Nreg,Nreg))\n",
    "ps = np.zeros((Nreg,Nreg))\n",
    "\n",
    "for i in range(Nreg):\n",
    "    for j in range(Nreg):\n",
    "        rs[i,j], ps[i,j] = pearsonr(Bmatrices[i,j,:], df.ASQ.values)\n",
    "\n",
    "# convert p to binary (sig or n.s.)\n",
    "pLogic = ps < ( 0.05 / 1 )\n",
    "pMask  = ps > ( 0.05 / 1 )\n",
    "\n",
    "sns.heatmap(data = rs,\n",
    "           center = 0,\n",
    "           xticklabels = regionNames,\n",
    "           yticklabels = regionNames,\n",
    "           square = True,\n",
    "           # = 'source region')\n",
    "           annot = ps,\n",
    "           mask = pMask,\n",
    "           #title = 'p < 0.05 uncorrected'\n",
    "           )\n",
    "plt.title('correlation with Autism')"
   ]
  },
  {
   "cell_type": "code",
   "execution_count": 16,
   "metadata": {},
   "outputs": [
    {
     "name": "stderr",
     "output_type": "stream",
     "text": [
      "C:\\Users\\Roman\\Anaconda3\\lib\\site-packages\\scipy\\stats\\stats.py:3010: RuntimeWarning: invalid value encountered in double_scalars\n",
      "  r = r_num / r_den\n",
      "C:\\Users\\Roman\\Anaconda3\\lib\\site-packages\\scipy\\stats\\stats.py:5256: RuntimeWarning: invalid value encountered in less\n",
      "  x = np.where(x < 1.0, x, 1.0)  # if x > 1 then return 1.0\n"
     ]
    },
    {
     "data": {
      "text/plain": [
       "Text(0.5,1,'correlation with sex')"
      ]
     },
     "execution_count": 16,
     "metadata": {},
     "output_type": "execute_result"
    },
    {
     "data": {
      "image/png": "[encoded data removed]",
      "text/plain": [
       "<Figure size 432x288 with 2 Axes>"
      ]
     },
     "metadata": {},
     "output_type": "display_data"
    }
   ],
   "source": [
    "# correlation of b matrix with alexi\n",
    "\n",
    "rs = np.zeros((Nreg,Nreg))\n",
    "ps = np.zeros((Nreg,Nreg))\n",
    "\n",
    "for i in range(Nreg):\n",
    "    for j in range(Nreg):\n",
    "        rs[i,j], ps[i,j] = pearsonr(Bmatrices[i,j,:], df.sex.values)\n",
    "\n",
    "# convert p to binary (sig or n.s.)\n",
    "pLogic = ps < ( 0.05 / 1 )\n",
    "pMask  = ps > ( 0.05 / 1 )\n",
    "\n",
    "sns.heatmap(data = rs,\n",
    "           center = 0,\n",
    "           xticklabels = regionNames,\n",
    "           yticklabels = regionNames,\n",
    "           square = True,\n",
    "           # = 'source region')\n",
    "           annot = ps,\n",
    "           mask = pMask,\n",
    "           #title = 'p < 0.05 uncorrected'\n",
    "           )\n",
    "plt.title('correlation with sex')"
   ]
  },
  {
   "cell_type": "code",
   "execution_count": 17,
   "metadata": {},
   "outputs": [
    {
     "name": "stderr",
     "output_type": "stream",
     "text": [
      "C:\\Users\\Roman\\Anaconda3\\lib\\site-packages\\scipy\\stats\\stats.py:3010: RuntimeWarning: invalid value encountered in double_scalars\n",
      "  r = r_num / r_den\n",
      "C:\\Users\\Roman\\Anaconda3\\lib\\site-packages\\scipy\\stats\\stats.py:5256: RuntimeWarning: invalid value encountered in less\n",
      "  x = np.where(x < 1.0, x, 1.0)  # if x > 1 then return 1.0\n"
     ]
    },
    {
     "data": {
      "text/plain": [
       "Text(0.5,1,'correlation with age')"
      ]
     },
     "execution_count": 17,
     "metadata": {},
     "output_type": "execute_result"
    },
    {
     "data": {
      "image/png": "[encoded data removed]",
      "text/plain": [
       "<Figure size 432x288 with 2 Axes>"
      ]
     },
     "metadata": {},
     "output_type": "display_data"
    }
   ],
   "source": [
    "# correlation of b matrix with alexi\n",
    "\n",
    "rs = np.zeros((Nreg,Nreg))\n",
    "ps = np.zeros((Nreg,Nreg))\n",
    "\n",
    "for i in range(Nreg):\n",
    "    for j in range(Nreg):\n",
    "        rs[i,j], ps[i,j] = pearsonr(Bmatrices[i,j,:], df.age.values)\n",
    "\n",
    "# convert p to binary (sig or n.s.)\n",
    "pLogic = ps < ( 0.05 / 1 )\n",
    "pMask  = ps > ( 0.05 / 1 )\n",
    "\n",
    "sns.heatmap(data = rs,\n",
    "           center = 0,\n",
    "           xticklabels = regionNames,\n",
    "           yticklabels = regionNames,\n",
    "           square = True,\n",
    "           # = 'source region')\n",
    "           annot = ps,\n",
    "           mask = pMask,\n",
    "           #title = 'p < 0.05 uncorrected'\n",
    "           )\n",
    "plt.title('correlation with age')"
   ]
  },
  {
   "cell_type": "code",
   "execution_count": 156,
   "metadata": {},
   "outputs": [],
   "source": [
    "# linear model"
   ]
  },
  {
   "cell_type": "code",
   "execution_count": 162,
   "metadata": {},
   "outputs": [],
   "source": [
    "from sklearn.linear_model import LinearRegression"
   ]
  },
  {
   "cell_type": "code",
   "execution_count": null,
   "metadata": {},
   "outputs": [],
   "source": []
  },
  {
   "cell_type": "code",
   "execution_count": 168,
   "metadata": {},
   "outputs": [],
   "source": [
    "df = df.drop(['Proband'], axis = 1) # drop the Proband variable as we do not need it\n"
   ]
  },
  {
   "cell_type": "code",
   "execution_count": 172,
   "metadata": {},
   "outputs": [],
   "source": [
    "df.Prosopagnosie = df.Prosopagnosie.values - np.mean(df.Prosopagnosie.values)"
   ]
  },
  {
   "cell_type": "code",
   "execution_count": 170,
   "metadata": {},
   "outputs": [],
   "source": [
    "# Menschen mit einer Punktzahl gleich oder kleiner 51 nicht alexithym,\n",
    "# zwischen 52 und 60 möglicherweise alexithym und bei über 61 hochwahrscheinlich alexithym sind''\n",
    "\n",
    "# continue here\n",
    "df.TAS = df.TAS.values - np.mean(df.TAS.values)"
   ]
  },
  {
   "cell_type": "code",
   "execution_count": 173,
   "metadata": {},
   "outputs": [],
   "source": [
    "df.ASQ = df.ASQ.values - np.mean(df.ASQ.values)"
   ]
  },
  {
   "cell_type": "code",
   "execution_count": 175,
   "metadata": {},
   "outputs": [],
   "source": [
    "df.age = df.age.values - np.mean(df.age.values)"
   ]
  },
  {
   "cell_type": "code",
   "execution_count": 176,
   "metadata": {},
   "outputs": [
    {
     "data": {
      "text/html": [
       "<div>\n",
       "<style scoped>\n",
       "    .dataframe tbody tr th:only-of-type {\n",
       "        vertical-align: middle;\n",
       "    }\n",
       "\n",
       "    .dataframe tbody tr th {\n",
       "        vertical-align: top;\n",
       "    }\n",
       "\n",
       "    .dataframe thead th {\n",
       "        text-align: right;\n",
       "    }\n",
       "</style>\n",
       "<table border=\"1\" class=\"dataframe\">\n",
       "  <thead>\n",
       "    <tr style=\"text-align: right;\">\n",
       "      <th></th>\n",
       "      <th>Prosopagnosie</th>\n",
       "      <th>TAS</th>\n",
       "      <th>ASQ</th>\n",
       "      <th>sex</th>\n",
       "      <th>age</th>\n",
       "    </tr>\n",
       "  </thead>\n",
       "  <tbody>\n",
       "    <tr>\n",
       "      <th>0</th>\n",
       "      <td>-0.153039</td>\n",
       "      <td>-14.428571</td>\n",
       "      <td>-1.571429</td>\n",
       "      <td>1</td>\n",
       "      <td>2.653061</td>\n",
       "    </tr>\n",
       "    <tr>\n",
       "      <th>1</th>\n",
       "      <td>0.013661</td>\n",
       "      <td>-18.428571</td>\n",
       "      <td>-1.571429</td>\n",
       "      <td>1</td>\n",
       "      <td>12.653061</td>\n",
       "    </tr>\n",
       "    <tr>\n",
       "      <th>2</th>\n",
       "      <td>0.152561</td>\n",
       "      <td>-25.428571</td>\n",
       "      <td>-7.571429</td>\n",
       "      <td>0</td>\n",
       "      <td>-6.346939</td>\n",
       "    </tr>\n",
       "    <tr>\n",
       "      <th>3</th>\n",
       "      <td>-0.236339</td>\n",
       "      <td>-12.428571</td>\n",
       "      <td>0.428571</td>\n",
       "      <td>0</td>\n",
       "      <td>-4.346939</td>\n",
       "    </tr>\n",
       "    <tr>\n",
       "      <th>4</th>\n",
       "      <td>-0.069639</td>\n",
       "      <td>-7.428571</td>\n",
       "      <td>9.428571</td>\n",
       "      <td>1</td>\n",
       "      <td>-1.346939</td>\n",
       "    </tr>\n",
       "  </tbody>\n",
       "</table>\n",
       "</div>"
      ],
      "text/plain": [
       "   Prosopagnosie        TAS       ASQ  sex        age\n",
       "0      -0.153039 -14.428571 -1.571429    1   2.653061\n",
       "1       0.013661 -18.428571 -1.571429    1  12.653061\n",
       "2       0.152561 -25.428571 -7.571429    0  -6.346939\n",
       "3      -0.236339 -12.428571  0.428571    0  -4.346939\n",
       "4      -0.069639  -7.428571  9.428571    1  -1.346939"
      ]
     },
     "execution_count": 176,
     "metadata": {},
     "output_type": "execute_result"
    }
   ],
   "source": [
    "df.head()"
   ]
  },
  {
   "cell_type": "code",
   "execution_count": 184,
   "metadata": {},
   "outputs": [
    {
     "data": {
      "text/plain": [
       "array([-0.14551099,  1.4116632 ,  0.16005208,  0.38427499,  0.23444468,\n",
       "       -0.51143809, -0.44145411,  0.05918284,  0.07573444,  1.03870122,\n",
       "        0.05027578, -0.09869893,  0.0783172 , -0.17119961, -0.22913096,\n",
       "        0.1595191 ,  0.07216501,  0.21849349,  0.03831627, -0.51102419,\n",
       "        0.79725707,  0.03617061,  0.06232602,  0.11311413,  0.30029203,\n",
       "       -0.03743032,  0.34200033, -0.08388861, -0.45692307,  0.01536276,\n",
       "       -0.05632589,  0.        ,  0.03434771,  0.2877909 , -0.02030441,\n",
       "        0.15726434, -0.03124487, -0.16089253,  0.31054523,  0.36090405,\n",
       "        0.04856667,  0.52234601, -0.17237129,  0.32189477,  0.19042886,\n",
       "       -0.11099457,  0.12332958,  0.47538739,  0.02325714])"
      ]
     },
     "execution_count": 184,
     "metadata": {},
     "output_type": "execute_result"
    }
   ],
   "source": [
    "y = Bmatrices[2,0,:] # rFFA to rATL\n",
    "y"
   ]
  },
  {
   "cell_type": "code",
   "execution_count": 183,
   "metadata": {},
   "outputs": [
    {
     "data": {
      "text/plain": [
       "(49, 5)"
      ]
     },
     "execution_count": 183,
     "metadata": {},
     "output_type": "execute_result"
    }
   ],
   "source": [
    "x = df.values\n",
    "x.shape"
   ]
  },
  {
   "cell_type": "code",
   "execution_count": 185,
   "metadata": {},
   "outputs": [],
   "source": [
    "model = LinearRegression().fit(x, y)"
   ]
  },
  {
   "cell_type": "code",
   "execution_count": 186,
   "metadata": {},
   "outputs": [
    {
     "name": "stdout",
     "output_type": "stream",
     "text": [
      "coefficient of determination: 0.0315084315627181\n",
      "intercept: 0.0818074724335265\n",
      "slope: [-0.01735424 -0.00106397  0.01309614  0.05710579 -0.00185701]\n"
     ]
    }
   ],
   "source": [
    "# get results\n",
    "\n",
    "r_sq = model.score(x, y)\n",
    "print('coefficient of determination:', r_sq)\n",
    "\n",
    "print('intercept:', model.intercept_)\n",
    "\n",
    "print('slope:', model.coef_)\n"
   ]
  },
  {
   "cell_type": "code",
   "execution_count": 187,
   "metadata": {},
   "outputs": [],
   "source": [
    "import statsmodels.api as sm"
   ]
  },
  {
   "cell_type": "code",
   "execution_count": 193,
   "metadata": {},
   "outputs": [
    {
     "name": "stdout",
     "output_type": "stream",
     "text": [
      "from rFFA to rFFA\n",
      "p values: [nan nan nan nan nan]\n",
      "from lFFA to rFFA\n",
      "p values: [0.30883321 0.99661152 0.58889272 0.01238157 0.85056501]\n",
      "from rATL to rFFA\n",
      "p values: [0.80538125 0.85412544 0.31742591 0.45040038 0.22810923]\n",
      "from lATL to rFFA\n",
      "p values: [nan nan nan nan nan]\n",
      "from rFFA to lFFA\n",
      "p values: [0.58429442 0.37063399 0.42016186 0.04542683 0.09904785]\n",
      "from lFFA to lFFA\n",
      "p values: [nan nan nan nan nan]\n",
      "from rATL to lFFA\n",
      "p values: [nan nan nan nan nan]\n",
      "from lATL to lFFA\n",
      "p values: [0.23959355 0.64820156 0.266584   0.35654716 0.42063971]\n",
      "from rFFA to rATL\n",
      "p values: [0.93501199 0.82057592 0.33727606 0.0775033  0.64252457]\n",
      "from lFFA to rATL\n",
      "p values: [nan nan nan nan nan]\n",
      "from rATL to rATL\n",
      "p values: [nan nan nan nan nan]\n",
      "from lATL to rATL\n",
      "p values: [0.09996946 0.12434837 0.05074432 0.00674842 0.61608891]\n",
      "from rFFA to lATL\n",
      "p values: [nan nan nan nan nan]\n",
      "from lFFA to lATL\n",
      "p values: [0.46828343 0.13667847 0.30840704 0.6225823  0.51146309]\n",
      "from rATL to lATL\n",
      "p values: [0.78016991 0.31269564 0.1937173  0.71443056 0.26639569]\n",
      "from lATL to lATL\n",
      "p values: [nan nan nan nan nan]\n"
     ]
    },
    {
     "name": "stderr",
     "output_type": "stream",
     "text": [
      "C:\\Users\\Roman\\Anaconda3\\lib\\site-packages\\statsmodels\\base\\model.py:1100: RuntimeWarning: invalid value encountered in true_divide\n",
      "  return self.params / self.bse\n",
      "C:\\Users\\Roman\\Anaconda3\\lib\\site-packages\\scipy\\stats\\_distn_infrastructure.py:879: RuntimeWarning: invalid value encountered in greater\n",
      "  return (self.a < x) & (x < self.b)\n",
      "C:\\Users\\Roman\\Anaconda3\\lib\\site-packages\\scipy\\stats\\_distn_infrastructure.py:879: RuntimeWarning: invalid value encountered in less\n",
      "  return (self.a < x) & (x < self.b)\n",
      "C:\\Users\\Roman\\Anaconda3\\lib\\site-packages\\scipy\\stats\\_distn_infrastructure.py:1821: RuntimeWarning: invalid value encountered in less_equal\n",
      "  cond2 = cond0 & (x <= self.a)\n"
     ]
    }
   ],
   "source": [
    "for i in range(Nreg):\n",
    "    for j in range(Nreg):\n",
    "\n",
    "        y = Bmatrices[i,j,:] # rFFA to rATL\n",
    "        print('from ' + regionNames[j] + ' to ' + regionNames[i])\n",
    "\n",
    "        # Note the difference in argument order\n",
    "        model = sm.OLS(y, x).fit()\n",
    "        predictions = model.predict(x) # make the predictions by the model\n",
    "\n",
    "        # Print out the statistics\n",
    "        #model.summary()\n",
    "        print( 'p values: ' + str(model.pvalues))"
   ]
  },
  {
   "cell_type": "markdown",
   "metadata": {},
   "source": [
    "so wie es aussieht, wird wenn überhaupt, der p Wert für Geschlecht signifikant, somit ist dass in manchen Parametern die \"signifikanteste\" Erklärende Variable. Die anderen, u.a. Proso, werden eher n.s."
   ]
  },
  {
   "cell_type": "code",
   "execution_count": null,
   "metadata": {},
   "outputs": [],
   "source": []
  }
 ],
 "metadata": {
  "kernelspec": {
   "display_name": "Python 3",
   "language": "python",
   "name": "python3"
  },
  "language_info": {
   "codemirror_mode": {
    "name": "ipython",
    "version": 3
   },
   "file_extension": ".py",
   "mimetype": "text/x-python",
   "name": "python",
   "nbconvert_exporter": "python",
   "pygments_lexer": "ipython3",
   "version": "3.7.3"
  }
 },
 "nbformat": 4,
 "nbformat_minor": 2
}
